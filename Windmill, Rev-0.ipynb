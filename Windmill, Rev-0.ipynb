{
 "cells": [
  {
   "cell_type": "code",
   "execution_count": 1,
   "id": "57b0a96f",
   "metadata": {},
   "outputs": [],
   "source": [
    "import pandas as pd\n",
    "import numpy as np\n",
    "import matplotlib.pyplot as plt\n",
    "%matplotlib inline\n",
    "import seaborn as sns\n",
    "import typing\n",
    "from sklearn.model_selection import train_test_split"
   ]
  },
  {
   "cell_type": "code",
   "execution_count": 9,
   "id": "0237dbce",
   "metadata": {},
   "outputs": [
    {
     "data": {
      "text/html": [
       "<div>\n",
       "<style scoped>\n",
       "    .dataframe tbody tr th:only-of-type {\n",
       "        vertical-align: middle;\n",
       "    }\n",
       "\n",
       "    .dataframe tbody tr th {\n",
       "        vertical-align: top;\n",
       "    }\n",
       "\n",
       "    .dataframe thead th {\n",
       "        text-align: right;\n",
       "    }\n",
       "</style>\n",
       "<table border=\"1\" class=\"dataframe\">\n",
       "  <thead>\n",
       "    <tr style=\"text-align: right;\">\n",
       "      <th></th>\n",
       "      <th>tracking_id</th>\n",
       "      <th>datetime</th>\n",
       "      <th>wind_speed(m/s)</th>\n",
       "      <th>atmospheric_temperature(°C)</th>\n",
       "      <th>shaft_temperature(°C)</th>\n",
       "      <th>blades_angle(°)</th>\n",
       "      <th>gearbox_temperature(°C)</th>\n",
       "      <th>engine_temperature(°C)</th>\n",
       "      <th>motor_torque(N-m)</th>\n",
       "      <th>generator_temperature(°C)</th>\n",
       "      <th>...</th>\n",
       "      <th>windmill_body_temperature(°C)</th>\n",
       "      <th>wind_direction(°)</th>\n",
       "      <th>resistance(ohm)</th>\n",
       "      <th>rotor_torque(N-m)</th>\n",
       "      <th>turbine_status</th>\n",
       "      <th>cloud_level</th>\n",
       "      <th>blade_length(m)</th>\n",
       "      <th>blade_breadth(m)</th>\n",
       "      <th>windmill_height(m)</th>\n",
       "      <th>windmill_generated_power(kW/h)</th>\n",
       "    </tr>\n",
       "  </thead>\n",
       "  <tbody>\n",
       "    <tr>\n",
       "      <th>0</th>\n",
       "      <td>WM_33725</td>\n",
       "      <td>2019-08-04 14:33:20</td>\n",
       "      <td>94.820023</td>\n",
       "      <td>-99.000000</td>\n",
       "      <td>41.723019</td>\n",
       "      <td>-0.903423</td>\n",
       "      <td>82.410573</td>\n",
       "      <td>42.523015</td>\n",
       "      <td>2563.124522</td>\n",
       "      <td>76.665560</td>\n",
       "      <td>...</td>\n",
       "      <td>NaN</td>\n",
       "      <td>239.836388</td>\n",
       "      <td>2730.310605</td>\n",
       "      <td>42.084666</td>\n",
       "      <td>BA</td>\n",
       "      <td>Medium</td>\n",
       "      <td>2.217542</td>\n",
       "      <td>0.314065</td>\n",
       "      <td>24.281689</td>\n",
       "      <td>6.766521</td>\n",
       "    </tr>\n",
       "    <tr>\n",
       "      <th>1</th>\n",
       "      <td>WM_698</td>\n",
       "      <td>2018-11-05 10:13:20</td>\n",
       "      <td>241.832734</td>\n",
       "      <td>27.764785</td>\n",
       "      <td>-99.000000</td>\n",
       "      <td>-99.000000</td>\n",
       "      <td>44.104919</td>\n",
       "      <td>46.258870</td>\n",
       "      <td>2372.384119</td>\n",
       "      <td>78.129803</td>\n",
       "      <td>...</td>\n",
       "      <td>NaN</td>\n",
       "      <td>337.944723</td>\n",
       "      <td>1780.207200</td>\n",
       "      <td>107.888643</td>\n",
       "      <td>A2</td>\n",
       "      <td>Medium</td>\n",
       "      <td>4.210346</td>\n",
       "      <td>0.448494</td>\n",
       "      <td>27.262139</td>\n",
       "      <td>5.966275</td>\n",
       "    </tr>\n",
       "    <tr>\n",
       "      <th>2</th>\n",
       "      <td>WM_39146</td>\n",
       "      <td>2019-09-14 14:03:20</td>\n",
       "      <td>95.484724</td>\n",
       "      <td>NaN</td>\n",
       "      <td>41.855473</td>\n",
       "      <td>12.652763</td>\n",
       "      <td>42.322098</td>\n",
       "      <td>42.878552</td>\n",
       "      <td>1657.169646</td>\n",
       "      <td>67.654469</td>\n",
       "      <td>...</td>\n",
       "      <td>45.033197</td>\n",
       "      <td>227.850294</td>\n",
       "      <td>1666.049900</td>\n",
       "      <td>-42.931459</td>\n",
       "      <td>ABC</td>\n",
       "      <td>Medium</td>\n",
       "      <td>2.719475</td>\n",
       "      <td>0.302321</td>\n",
       "      <td>27.366127</td>\n",
       "      <td>2.874342</td>\n",
       "    </tr>\n",
       "    <tr>\n",
       "      <th>3</th>\n",
       "      <td>WM_6757</td>\n",
       "      <td>2018-12-25 15:33:20</td>\n",
       "      <td>238.819424</td>\n",
       "      <td>-99.000000</td>\n",
       "      <td>45.443914</td>\n",
       "      <td>15.115323</td>\n",
       "      <td>44.759643</td>\n",
       "      <td>47.282101</td>\n",
       "      <td>2888.134079</td>\n",
       "      <td>95.389974</td>\n",
       "      <td>...</td>\n",
       "      <td>44.827154</td>\n",
       "      <td>492.081520</td>\n",
       "      <td>1964.502895</td>\n",
       "      <td>42.744596</td>\n",
       "      <td>ABC</td>\n",
       "      <td>NaN</td>\n",
       "      <td>4.857385</td>\n",
       "      <td>0.367140</td>\n",
       "      <td>24.287767</td>\n",
       "      <td>14.851089</td>\n",
       "    </tr>\n",
       "    <tr>\n",
       "      <th>4</th>\n",
       "      <td>WM_21521</td>\n",
       "      <td>2019-05-04 03:13:20</td>\n",
       "      <td>10.722890</td>\n",
       "      <td>NaN</td>\n",
       "      <td>41.981183</td>\n",
       "      <td>1.715696</td>\n",
       "      <td>-17.616459</td>\n",
       "      <td>43.469852</td>\n",
       "      <td>781.695419</td>\n",
       "      <td>37.423065</td>\n",
       "      <td>...</td>\n",
       "      <td>-99.000000</td>\n",
       "      <td>259.274601</td>\n",
       "      <td>1177.516152</td>\n",
       "      <td>13.387289</td>\n",
       "      <td>AAA</td>\n",
       "      <td>Medium</td>\n",
       "      <td>NaN</td>\n",
       "      <td>0.453374</td>\n",
       "      <td>27.971650</td>\n",
       "      <td>3.519074</td>\n",
       "    </tr>\n",
       "    <tr>\n",
       "      <th>5</th>\n",
       "      <td>WM_17873</td>\n",
       "      <td>2019-03-22 21:03:20</td>\n",
       "      <td>93.769973</td>\n",
       "      <td>30.326226</td>\n",
       "      <td>17.970619</td>\n",
       "      <td>-99.000000</td>\n",
       "      <td>43.816430</td>\n",
       "      <td>40.815795</td>\n",
       "      <td>2119.351653</td>\n",
       "      <td>72.345126</td>\n",
       "      <td>...</td>\n",
       "      <td>101.378184</td>\n",
       "      <td>NaN</td>\n",
       "      <td>1715.244121</td>\n",
       "      <td>97.746463</td>\n",
       "      <td>ABC</td>\n",
       "      <td>Low</td>\n",
       "      <td>2.504098</td>\n",
       "      <td>0.395642</td>\n",
       "      <td>24.673292</td>\n",
       "      <td>4.945780</td>\n",
       "    </tr>\n",
       "    <tr>\n",
       "      <th>6</th>\n",
       "      <td>WM_19873</td>\n",
       "      <td>2019-04-17 18:33:20</td>\n",
       "      <td>16.026249</td>\n",
       "      <td>-99.000000</td>\n",
       "      <td>44.072819</td>\n",
       "      <td>-0.196845</td>\n",
       "      <td>41.680583</td>\n",
       "      <td>43.384904</td>\n",
       "      <td>778.109985</td>\n",
       "      <td>40.284018</td>\n",
       "      <td>...</td>\n",
       "      <td>43.008746</td>\n",
       "      <td>528.003985</td>\n",
       "      <td>1222.931270</td>\n",
       "      <td>11.805113</td>\n",
       "      <td>BD</td>\n",
       "      <td>Low</td>\n",
       "      <td>2.917922</td>\n",
       "      <td>0.447341</td>\n",
       "      <td>33.593511</td>\n",
       "      <td>5.089173</td>\n",
       "    </tr>\n",
       "    <tr>\n",
       "      <th>7</th>\n",
       "      <td>WM_30330</td>\n",
       "      <td>2019-07-08 21:03:20</td>\n",
       "      <td>48.737826</td>\n",
       "      <td>12.716815</td>\n",
       "      <td>43.217778</td>\n",
       "      <td>-99.000000</td>\n",
       "      <td>-48.405089</td>\n",
       "      <td>44.125843</td>\n",
       "      <td>980.988531</td>\n",
       "      <td>43.691867</td>\n",
       "      <td>...</td>\n",
       "      <td>-99.000000</td>\n",
       "      <td>NaN</td>\n",
       "      <td>1177.637341</td>\n",
       "      <td>18.384873</td>\n",
       "      <td>BA</td>\n",
       "      <td>Low</td>\n",
       "      <td>2.938810</td>\n",
       "      <td>0.354881</td>\n",
       "      <td>29.944821</td>\n",
       "      <td>8.536889</td>\n",
       "    </tr>\n",
       "    <tr>\n",
       "      <th>8</th>\n",
       "      <td>WM_26069</td>\n",
       "      <td>2019-06-07 17:53:20</td>\n",
       "      <td>47.081729</td>\n",
       "      <td>-99.000000</td>\n",
       "      <td>-33.607048</td>\n",
       "      <td>-99.000000</td>\n",
       "      <td>43.055427</td>\n",
       "      <td>45.253628</td>\n",
       "      <td>957.580151</td>\n",
       "      <td>41.609787</td>\n",
       "      <td>...</td>\n",
       "      <td>43.216062</td>\n",
       "      <td>281.368625</td>\n",
       "      <td>-99.000000</td>\n",
       "      <td>19.486763</td>\n",
       "      <td>ABC</td>\n",
       "      <td>Low</td>\n",
       "      <td>1.651438</td>\n",
       "      <td>0.301550</td>\n",
       "      <td>46.733509</td>\n",
       "      <td>8.739166</td>\n",
       "    </tr>\n",
       "    <tr>\n",
       "      <th>9</th>\n",
       "      <td>WM_28915</td>\n",
       "      <td>2019-06-28 16:13:20</td>\n",
       "      <td>283.789329</td>\n",
       "      <td>18.887932</td>\n",
       "      <td>41.691469</td>\n",
       "      <td>52.337026</td>\n",
       "      <td>-62.724362</td>\n",
       "      <td>41.881256</td>\n",
       "      <td>1042.086135</td>\n",
       "      <td>65.280225</td>\n",
       "      <td>...</td>\n",
       "      <td>-99.000000</td>\n",
       "      <td>352.268521</td>\n",
       "      <td>1662.076277</td>\n",
       "      <td>20.100683</td>\n",
       "      <td>AC</td>\n",
       "      <td>Extremely Low</td>\n",
       "      <td>1.060817</td>\n",
       "      <td>0.201699</td>\n",
       "      <td>24.324068</td>\n",
       "      <td>1.948810</td>\n",
       "    </tr>\n",
       "  </tbody>\n",
       "</table>\n",
       "<p>10 rows × 22 columns</p>\n",
       "</div>"
      ],
      "text/plain": [
       "  tracking_id             datetime  wind_speed(m/s)  \\\n",
       "0    WM_33725  2019-08-04 14:33:20        94.820023   \n",
       "1      WM_698  2018-11-05 10:13:20       241.832734   \n",
       "2    WM_39146  2019-09-14 14:03:20        95.484724   \n",
       "3     WM_6757  2018-12-25 15:33:20       238.819424   \n",
       "4    WM_21521  2019-05-04 03:13:20        10.722890   \n",
       "5    WM_17873  2019-03-22 21:03:20        93.769973   \n",
       "6    WM_19873  2019-04-17 18:33:20        16.026249   \n",
       "7    WM_30330  2019-07-08 21:03:20        48.737826   \n",
       "8    WM_26069  2019-06-07 17:53:20        47.081729   \n",
       "9    WM_28915  2019-06-28 16:13:20       283.789329   \n",
       "\n",
       "   atmospheric_temperature(°C)  shaft_temperature(°C)  blades_angle(°)  \\\n",
       "0                   -99.000000              41.723019        -0.903423   \n",
       "1                    27.764785             -99.000000       -99.000000   \n",
       "2                          NaN              41.855473        12.652763   \n",
       "3                   -99.000000              45.443914        15.115323   \n",
       "4                          NaN              41.981183         1.715696   \n",
       "5                    30.326226              17.970619       -99.000000   \n",
       "6                   -99.000000              44.072819        -0.196845   \n",
       "7                    12.716815              43.217778       -99.000000   \n",
       "8                   -99.000000             -33.607048       -99.000000   \n",
       "9                    18.887932              41.691469        52.337026   \n",
       "\n",
       "   gearbox_temperature(°C)  engine_temperature(°C)  motor_torque(N-m)  \\\n",
       "0                82.410573               42.523015        2563.124522   \n",
       "1                44.104919               46.258870        2372.384119   \n",
       "2                42.322098               42.878552        1657.169646   \n",
       "3                44.759643               47.282101        2888.134079   \n",
       "4               -17.616459               43.469852         781.695419   \n",
       "5                43.816430               40.815795        2119.351653   \n",
       "6                41.680583               43.384904         778.109985   \n",
       "7               -48.405089               44.125843         980.988531   \n",
       "8                43.055427               45.253628         957.580151   \n",
       "9               -62.724362               41.881256        1042.086135   \n",
       "\n",
       "   generator_temperature(°C)  ...  windmill_body_temperature(°C)  \\\n",
       "0                  76.665560  ...                            NaN   \n",
       "1                  78.129803  ...                            NaN   \n",
       "2                  67.654469  ...                      45.033197   \n",
       "3                  95.389974  ...                      44.827154   \n",
       "4                  37.423065  ...                     -99.000000   \n",
       "5                  72.345126  ...                     101.378184   \n",
       "6                  40.284018  ...                      43.008746   \n",
       "7                  43.691867  ...                     -99.000000   \n",
       "8                  41.609787  ...                      43.216062   \n",
       "9                  65.280225  ...                     -99.000000   \n",
       "\n",
       "   wind_direction(°)  resistance(ohm)  rotor_torque(N-m)  turbine_status  \\\n",
       "0         239.836388      2730.310605          42.084666              BA   \n",
       "1         337.944723      1780.207200         107.888643              A2   \n",
       "2         227.850294      1666.049900         -42.931459             ABC   \n",
       "3         492.081520      1964.502895          42.744596             ABC   \n",
       "4         259.274601      1177.516152          13.387289             AAA   \n",
       "5                NaN      1715.244121          97.746463             ABC   \n",
       "6         528.003985      1222.931270          11.805113              BD   \n",
       "7                NaN      1177.637341          18.384873              BA   \n",
       "8         281.368625       -99.000000          19.486763             ABC   \n",
       "9         352.268521      1662.076277          20.100683              AC   \n",
       "\n",
       "     cloud_level blade_length(m) blade_breadth(m)  windmill_height(m)  \\\n",
       "0         Medium        2.217542         0.314065           24.281689   \n",
       "1         Medium        4.210346         0.448494           27.262139   \n",
       "2         Medium        2.719475         0.302321           27.366127   \n",
       "3            NaN        4.857385         0.367140           24.287767   \n",
       "4         Medium             NaN         0.453374           27.971650   \n",
       "5            Low        2.504098         0.395642           24.673292   \n",
       "6            Low        2.917922         0.447341           33.593511   \n",
       "7            Low        2.938810         0.354881           29.944821   \n",
       "8            Low        1.651438         0.301550           46.733509   \n",
       "9  Extremely Low        1.060817         0.201699           24.324068   \n",
       "\n",
       "   windmill_generated_power(kW/h)  \n",
       "0                        6.766521  \n",
       "1                        5.966275  \n",
       "2                        2.874342  \n",
       "3                       14.851089  \n",
       "4                        3.519074  \n",
       "5                        4.945780  \n",
       "6                        5.089173  \n",
       "7                        8.536889  \n",
       "8                        8.739166  \n",
       "9                        1.948810  \n",
       "\n",
       "[10 rows x 22 columns]"
      ]
     },
     "execution_count": 9,
     "metadata": {},
     "output_type": "execute_result"
    }
   ],
   "source": [
    "train=pd.read_csv('train.csv')\n",
    "train_full=train.copy()\n",
    "test_full=pd.read_csv('test.csv')\n",
    "train_full.head(10)"
   ]
  },
  {
   "cell_type": "code",
   "execution_count": 3,
   "id": "dae93211",
   "metadata": {},
   "outputs": [
    {
     "name": "stdout",
     "output_type": "stream",
     "text": [
      "<class 'pandas.core.frame.DataFrame'>\n",
      "RangeIndex: 28200 entries, 0 to 28199\n",
      "Data columns (total 22 columns):\n",
      " #   Column                          Non-Null Count  Dtype  \n",
      "---  ------                          --------------  -----  \n",
      " 0   tracking_id                     28200 non-null  object \n",
      " 1   datetime                        28200 non-null  object \n",
      " 2   wind_speed(m/s)                 27927 non-null  float64\n",
      " 3   atmospheric_temperature(°C)     24750 non-null  float64\n",
      " 4   shaft_temperature(°C)           28198 non-null  float64\n",
      " 5   blades_angle(°)                 27984 non-null  float64\n",
      " 6   gearbox_temperature(°C)         28199 non-null  float64\n",
      " 7   engine_temperature(°C)          28188 non-null  float64\n",
      " 8   motor_torque(N-m)               28176 non-null  float64\n",
      " 9   generator_temperature(°C)       28188 non-null  float64\n",
      " 10  atmospheric_pressure(Pascal)    25493 non-null  float64\n",
      " 11  area_temperature(°C)            28200 non-null  float64\n",
      " 12  windmill_body_temperature(°C)   25837 non-null  float64\n",
      " 13  wind_direction(°)               23097 non-null  float64\n",
      " 14  resistance(ohm)                 28199 non-null  float64\n",
      " 15  rotor_torque(N-m)               27628 non-null  float64\n",
      " 16  turbine_status                  26441 non-null  object \n",
      " 17  cloud_level                     27924 non-null  object \n",
      " 18  blade_length(m)                 23107 non-null  float64\n",
      " 19  blade_breadth(m)                28200 non-null  float64\n",
      " 20  windmill_height(m)              27657 non-null  float64\n",
      " 21  windmill_generated_power(kW/h)  27993 non-null  float64\n",
      "dtypes: float64(18), object(4)\n",
      "memory usage: 4.7+ MB\n"
     ]
    }
   ],
   "source": [
    "train.info()"
   ]
  },
  {
   "cell_type": "code",
   "execution_count": 12,
   "id": "f335fcd9",
   "metadata": {},
   "outputs": [
    {
     "data": {
      "text/plain": [
       "array(['BA', 'A2', 'ABC', 'AAA', 'BD', 'AC', 'BB', 'BCB', 'B', 'AB', nan,\n",
       "       'B2', 'BBB', 'A', 'D'], dtype=object)"
      ]
     },
     "execution_count": 12,
     "metadata": {},
     "output_type": "execute_result"
    }
   ],
   "source": [
    "train_full.turbine_status.unique()"
   ]
  },
  {
   "cell_type": "code",
   "execution_count": 31,
   "id": "ce52858f",
   "metadata": {},
   "outputs": [],
   "source": [
    "train_full.drop(['tracking_id','datetime'],axis=1,inplace=True)\n",
    "train_full.dropna(subset=['windmill_generated_power(kW/h)'],axis=0, inplace=True)\n",
    "test_full.drop(['tracking_id','datetime'],axis=1,inplace=True)\n"
   ]
  },
  {
   "cell_type": "code",
   "execution_count": 32,
   "id": "d1c9f54c",
   "metadata": {},
   "outputs": [
    {
     "data": {
      "text/html": [
       "<div>\n",
       "<style scoped>\n",
       "    .dataframe tbody tr th:only-of-type {\n",
       "        vertical-align: middle;\n",
       "    }\n",
       "\n",
       "    .dataframe tbody tr th {\n",
       "        vertical-align: top;\n",
       "    }\n",
       "\n",
       "    .dataframe thead th {\n",
       "        text-align: right;\n",
       "    }\n",
       "</style>\n",
       "<table border=\"1\" class=\"dataframe\">\n",
       "  <thead>\n",
       "    <tr style=\"text-align: right;\">\n",
       "      <th></th>\n",
       "      <th>wind_speed(m/s)</th>\n",
       "      <th>atmospheric_temperature(°C)</th>\n",
       "      <th>shaft_temperature(°C)</th>\n",
       "      <th>blades_angle(°)</th>\n",
       "      <th>gearbox_temperature(°C)</th>\n",
       "      <th>engine_temperature(°C)</th>\n",
       "      <th>motor_torque(N-m)</th>\n",
       "      <th>generator_temperature(°C)</th>\n",
       "      <th>atmospheric_pressure(Pascal)</th>\n",
       "      <th>area_temperature(°C)</th>\n",
       "      <th>windmill_body_temperature(°C)</th>\n",
       "      <th>wind_direction(°)</th>\n",
       "      <th>resistance(ohm)</th>\n",
       "      <th>rotor_torque(N-m)</th>\n",
       "      <th>turbine_status</th>\n",
       "      <th>cloud_level</th>\n",
       "      <th>blade_length(m)</th>\n",
       "      <th>blade_breadth(m)</th>\n",
       "      <th>windmill_height(m)</th>\n",
       "      <th>windmill_generated_power(kW/h)</th>\n",
       "    </tr>\n",
       "  </thead>\n",
       "  <tbody>\n",
       "    <tr>\n",
       "      <th>0</th>\n",
       "      <td>94.820023</td>\n",
       "      <td>-99.000000</td>\n",
       "      <td>41.723019</td>\n",
       "      <td>-0.903423</td>\n",
       "      <td>82.410573</td>\n",
       "      <td>42.523015</td>\n",
       "      <td>2563.124522</td>\n",
       "      <td>76.665560</td>\n",
       "      <td>103402.961872</td>\n",
       "      <td>26.897875</td>\n",
       "      <td>NaN</td>\n",
       "      <td>239.836388</td>\n",
       "      <td>2730.310605</td>\n",
       "      <td>42.084666</td>\n",
       "      <td>BA</td>\n",
       "      <td>Medium</td>\n",
       "      <td>2.217542</td>\n",
       "      <td>0.314065</td>\n",
       "      <td>24.281689</td>\n",
       "      <td>6.766521</td>\n",
       "    </tr>\n",
       "    <tr>\n",
       "      <th>1</th>\n",
       "      <td>241.832734</td>\n",
       "      <td>27.764785</td>\n",
       "      <td>-99.000000</td>\n",
       "      <td>-99.000000</td>\n",
       "      <td>44.104919</td>\n",
       "      <td>46.258870</td>\n",
       "      <td>2372.384119</td>\n",
       "      <td>78.129803</td>\n",
       "      <td>17030.904078</td>\n",
       "      <td>39.801469</td>\n",
       "      <td>NaN</td>\n",
       "      <td>337.944723</td>\n",
       "      <td>1780.207200</td>\n",
       "      <td>107.888643</td>\n",
       "      <td>A2</td>\n",
       "      <td>Medium</td>\n",
       "      <td>4.210346</td>\n",
       "      <td>0.448494</td>\n",
       "      <td>27.262139</td>\n",
       "      <td>5.966275</td>\n",
       "    </tr>\n",
       "  </tbody>\n",
       "</table>\n",
       "</div>"
      ],
      "text/plain": [
       "   wind_speed(m/s)  atmospheric_temperature(°C)  shaft_temperature(°C)  \\\n",
       "0        94.820023                   -99.000000              41.723019   \n",
       "1       241.832734                    27.764785             -99.000000   \n",
       "\n",
       "   blades_angle(°)  gearbox_temperature(°C)  engine_temperature(°C)  \\\n",
       "0        -0.903423                82.410573               42.523015   \n",
       "1       -99.000000                44.104919               46.258870   \n",
       "\n",
       "   motor_torque(N-m)  generator_temperature(°C)  atmospheric_pressure(Pascal)  \\\n",
       "0        2563.124522                  76.665560                 103402.961872   \n",
       "1        2372.384119                  78.129803                  17030.904078   \n",
       "\n",
       "   area_temperature(°C)  windmill_body_temperature(°C)  wind_direction(°)  \\\n",
       "0             26.897875                            NaN         239.836388   \n",
       "1             39.801469                            NaN         337.944723   \n",
       "\n",
       "   resistance(ohm)  rotor_torque(N-m) turbine_status cloud_level  \\\n",
       "0      2730.310605          42.084666             BA      Medium   \n",
       "1      1780.207200         107.888643             A2      Medium   \n",
       "\n",
       "   blade_length(m)  blade_breadth(m)  windmill_height(m)  \\\n",
       "0         2.217542          0.314065           24.281689   \n",
       "1         4.210346          0.448494           27.262139   \n",
       "\n",
       "   windmill_generated_power(kW/h)  \n",
       "0                        6.766521  \n",
       "1                        5.966275  "
      ]
     },
     "execution_count": 32,
     "metadata": {},
     "output_type": "execute_result"
    }
   ],
   "source": [
    "train_full.head(2)"
   ]
  },
  {
   "cell_type": "code",
   "execution_count": 5,
   "id": "06c1fe70",
   "metadata": {
    "scrolled": true
   },
   "outputs": [
    {
     "name": "stdout",
     "output_type": "stream",
     "text": [
      "<class 'pandas.core.frame.DataFrame'>\n",
      "Int64Index: 27993 entries, 0 to 28199\n",
      "Data columns (total 20 columns):\n",
      " #   Column                          Non-Null Count  Dtype  \n",
      "---  ------                          --------------  -----  \n",
      " 0   wind_speed(m/s)                 27722 non-null  float64\n",
      " 1   atmospheric_temperature(°C)     24571 non-null  float64\n",
      " 2   shaft_temperature(°C)           27991 non-null  float64\n",
      " 3   blades_angle(°)                 27781 non-null  float64\n",
      " 4   gearbox_temperature(°C)         27992 non-null  float64\n",
      " 5   engine_temperature(°C)          27981 non-null  float64\n",
      " 6   motor_torque(N-m)               27969 non-null  float64\n",
      " 7   generator_temperature(°C)       27981 non-null  float64\n",
      " 8   atmospheric_pressure(Pascal)    25303 non-null  float64\n",
      " 9   area_temperature(°C)            27993 non-null  float64\n",
      " 10  windmill_body_temperature(°C)   25641 non-null  float64\n",
      " 11  wind_direction(°)               22935 non-null  float64\n",
      " 12  resistance(ohm)                 27992 non-null  float64\n",
      " 13  rotor_torque(N-m)               27426 non-null  float64\n",
      " 14  turbine_status                  26246 non-null  object \n",
      " 15  cloud_level                     27721 non-null  object \n",
      " 16  blade_length(m)                 22936 non-null  float64\n",
      " 17  blade_breadth(m)                27993 non-null  float64\n",
      " 18  windmill_height(m)              27455 non-null  float64\n",
      " 19  windmill_generated_power(kW/h)  27993 non-null  float64\n",
      "dtypes: float64(18), object(2)\n",
      "memory usage: 4.5+ MB\n"
     ]
    }
   ],
   "source": [
    "train_full.info()"
   ]
  },
  {
   "cell_type": "code",
   "execution_count": 33,
   "id": "4f614e84",
   "metadata": {},
   "outputs": [],
   "source": [
    "\"Checking the null/NaN values in dataset \"\n",
    "\n",
    "def compare_null_values (df_train:pd.DataFrame,df_test:pd.DataFrame):\n",
    "\n",
    "    l=df_train.select_dtypes(include=['object','int64','float64']).columns\n",
    "\n",
    "    results=[]\n",
    "\n",
    "    for i in l:\n",
    "        sum_na=df_train[i].isna().sum()\n",
    "        sum_na += np.sum(df_train[i] == \"nan\")\n",
    "        if sum_na>0:\n",
    "            print(i,',',str(sum_na),',',round((sum_na/len(df_train))*100),'%')\n",
    "            results.append(i)\n",
    "    sns.barplot(y=df_train[results].isnull().sum().index, x=df_train[results].isnull().sum().values)\n",
    "    plt.show()\n",
    "\n",
    "    print('****')\n",
    "    for i in df_test.select_dtypes(include=['object','int64','float64']).columns:\n",
    "        sum_na=df_test[i].isna().sum()\n",
    "        sum_na +=np.sum(df_test[i]==\"nan\")\n",
    "        if sum_na>0:\n",
    "            print(i,',',str(sum_na),',',round((sum_na/len(df_test))*100),'%')\n",
    "            results.append(i)\n",
    "    sns.barplot(y=df_test[results].isnull().sum().index, x=df_test[results].isnull().sum().values)\n",
    "    plt.show()"
   ]
  },
  {
   "cell_type": "code",
   "execution_count": 34,
   "id": "1a43f22c",
   "metadata": {},
   "outputs": [],
   "source": [
    "def detect_duplicates(df_temp : pd.DataFrame, silent : bool = False, id_cols : typing.List = []) -> None: \n",
    "            \"\"\"\n",
    "            Detect duplicates in data and return the columns in which duplicates where detected.\n",
    "\n",
    "            Parameters\n",
    "            ----------\n",
    "            df_temp : pd.DataFrame\n",
    "                Dataframe to detect duplicates in\n",
    "            silent : bool\n",
    "                Whether to run print statements \n",
    "            id_cols : typing.List\n",
    "                Given id cols that aren't auto detected - Useful if there is an obvious ID column that also wants to be detected for duplication\n",
    "            \"\"\"\n",
    "            # Filter out identity columns\n",
    "            cols_to_use = []\n",
    "            for col in df_temp.columns:\n",
    "                if len(df_temp[col].unique()) != len(df_temp[col]):\n",
    "                    cols_to_use.append(col)\n",
    "                elif col not in id_cols:\n",
    "                    id_cols.append(col)\n",
    "            id_temp = df_temp.copy()[id_cols]\n",
    "            df_temp = df_temp.copy()[cols_to_use]    \n",
    "            count_dupes = df_temp.duplicated().sum()\n",
    "            count_dupes_in_ID = id_temp.duplicated().sum()\n",
    "            if not silent:\n",
    "                print('Duplicates in data: ', str(count_dupes))\n",
    "                print('Duplicates in id columns: ', str(count_dupes_in_ID))\n",
    "                print('When filtering out id columns: ', str(id_cols))"
   ]
  },
  {
   "cell_type": "code",
   "execution_count": 7,
   "id": "7ce04c49",
   "metadata": {},
   "outputs": [
    {
     "name": "stdout",
     "output_type": "stream",
     "text": [
      "Duplicates in data:  0\n",
      "Duplicates in id columns:  0\n",
      "When filtering out id columns:  ['blade_breadth(m)']\n"
     ]
    }
   ],
   "source": [
    "detect_duplicates(train_full)"
   ]
  },
  {
   "cell_type": "code",
   "execution_count": 8,
   "id": "6a311960",
   "metadata": {},
   "outputs": [
    {
     "name": "stdout",
     "output_type": "stream",
     "text": [
      "Duplicates in data:  0\n",
      "Duplicates in id columns:  0\n",
      "When filtering out id columns:  ['blade_breadth(m)']\n"
     ]
    }
   ],
   "source": [
    "detect_duplicates(test_full)"
   ]
  },
  {
   "cell_type": "code",
   "execution_count": 19,
   "id": "3ab62106",
   "metadata": {},
   "outputs": [
    {
     "data": {
      "text/plain": [
       "<AxesSubplot:>"
      ]
     },
     "execution_count": 19,
     "metadata": {},
     "output_type": "execute_result"
    },
    {
     "data": {
      "image/png": "[encoded data removed]",
      "text/plain": [
       "<Figure size 504x504 with 2 Axes>"
      ]
     },
     "metadata": {},
     "output_type": "display_data"
    }
   ],
   "source": [
    "df=train_full.select_dtypes(exclude='object').corr().round()\n",
    "mask = np.triu(np.ones_like(df, dtype=bool))\n",
    "sns.set(rc = {'figure.figsize':(7,7)})\n",
    "sns.heatmap(df,mask=mask,annot=True,cmap='coolwarm',linecolor='white',linewidths=1)"
   ]
  },
  {
   "cell_type": "code",
   "execution_count": 21,
   "id": "30eb1141",
   "metadata": {},
   "outputs": [],
   "source": [
    "from statsmodels.stats.outliers_influence import variance_inflation_factor\n",
    "\n",
    "def calc_vif(X):\n",
    "    \n",
    "    # Calculating VIF\n",
    "    \n",
    "    col_to_drop = X.select_dtypes(['object','datetime64[ns]']).columns\n",
    "    X = X.drop(columns = col_to_drop)\n",
    "    X = X.dropna(axis=0)\n",
    "    vif = pd.DataFrame()\n",
    "    vif[\"variables\"] = X.columns\n",
    "    vif[\"VIF_Values\"] = [variance_inflation_factor(X.values, i) for i in range(X.shape[1])]\n",
    "    return(vif)"
   ]
  },
  {
   "cell_type": "code",
   "execution_count": 22,
   "id": "1231d0b2",
   "metadata": {},
   "outputs": [
    {
     "data": {
      "text/html": [
       "<div>\n",
       "<style scoped>\n",
       "    .dataframe tbody tr th:only-of-type {\n",
       "        vertical-align: middle;\n",
       "    }\n",
       "\n",
       "    .dataframe tbody tr th {\n",
       "        vertical-align: top;\n",
       "    }\n",
       "\n",
       "    .dataframe thead th {\n",
       "        text-align: right;\n",
       "    }\n",
       "</style>\n",
       "<table border=\"1\" class=\"dataframe\">\n",
       "  <thead>\n",
       "    <tr style=\"text-align: right;\">\n",
       "      <th></th>\n",
       "      <th>variables</th>\n",
       "      <th>VIF_Values</th>\n",
       "    </tr>\n",
       "  </thead>\n",
       "  <tbody>\n",
       "    <tr>\n",
       "      <th>0</th>\n",
       "      <td>wind_speed(m/s)</td>\n",
       "      <td>2.217880</td>\n",
       "    </tr>\n",
       "    <tr>\n",
       "      <th>1</th>\n",
       "      <td>atmospheric_temperature(°C)</td>\n",
       "      <td>1.012716</td>\n",
       "    </tr>\n",
       "    <tr>\n",
       "      <th>2</th>\n",
       "      <td>shaft_temperature(°C)</td>\n",
       "      <td>3.223292</td>\n",
       "    </tr>\n",
       "    <tr>\n",
       "      <th>3</th>\n",
       "      <td>blades_angle(°)</td>\n",
       "      <td>1.143013</td>\n",
       "    </tr>\n",
       "    <tr>\n",
       "      <th>4</th>\n",
       "      <td>gearbox_temperature(°C)</td>\n",
       "      <td>1.933977</td>\n",
       "    </tr>\n",
       "    <tr>\n",
       "      <th>5</th>\n",
       "      <td>engine_temperature(°C)</td>\n",
       "      <td>43.865796</td>\n",
       "    </tr>\n",
       "    <tr>\n",
       "      <th>6</th>\n",
       "      <td>motor_torque(N-m)</td>\n",
       "      <td>37.608210</td>\n",
       "    </tr>\n",
       "    <tr>\n",
       "      <th>7</th>\n",
       "      <td>generator_temperature(°C)</td>\n",
       "      <td>101.150111</td>\n",
       "    </tr>\n",
       "    <tr>\n",
       "      <th>8</th>\n",
       "      <td>atmospheric_pressure(Pascal)</td>\n",
       "      <td>1.144987</td>\n",
       "    </tr>\n",
       "    <tr>\n",
       "      <th>9</th>\n",
       "      <td>area_temperature(°C)</td>\n",
       "      <td>26.684258</td>\n",
       "    </tr>\n",
       "    <tr>\n",
       "      <th>10</th>\n",
       "      <td>windmill_body_temperature(°C)</td>\n",
       "      <td>1.169483</td>\n",
       "    </tr>\n",
       "    <tr>\n",
       "      <th>11</th>\n",
       "      <td>wind_direction(°)</td>\n",
       "      <td>6.491657</td>\n",
       "    </tr>\n",
       "    <tr>\n",
       "      <th>12</th>\n",
       "      <td>resistance(ohm)</td>\n",
       "      <td>14.984302</td>\n",
       "    </tr>\n",
       "    <tr>\n",
       "      <th>13</th>\n",
       "      <td>rotor_torque(N-m)</td>\n",
       "      <td>1.900911</td>\n",
       "    </tr>\n",
       "    <tr>\n",
       "      <th>14</th>\n",
       "      <td>blade_length(m)</td>\n",
       "      <td>1.041033</td>\n",
       "    </tr>\n",
       "    <tr>\n",
       "      <th>15</th>\n",
       "      <td>blade_breadth(m)</td>\n",
       "      <td>27.438856</td>\n",
       "    </tr>\n",
       "    <tr>\n",
       "      <th>16</th>\n",
       "      <td>windmill_height(m)</td>\n",
       "      <td>11.073316</td>\n",
       "    </tr>\n",
       "  </tbody>\n",
       "</table>\n",
       "</div>"
      ],
      "text/plain": [
       "                        variables  VIF_Values\n",
       "0                 wind_speed(m/s)    2.217880\n",
       "1     atmospheric_temperature(°C)    1.012716\n",
       "2           shaft_temperature(°C)    3.223292\n",
       "3                 blades_angle(°)    1.143013\n",
       "4         gearbox_temperature(°C)    1.933977\n",
       "5          engine_temperature(°C)   43.865796\n",
       "6               motor_torque(N-m)   37.608210\n",
       "7       generator_temperature(°C)  101.150111\n",
       "8    atmospheric_pressure(Pascal)    1.144987\n",
       "9            area_temperature(°C)   26.684258\n",
       "10  windmill_body_temperature(°C)    1.169483\n",
       "11              wind_direction(°)    6.491657\n",
       "12                resistance(ohm)   14.984302\n",
       "13              rotor_torque(N-m)    1.900911\n",
       "14                blade_length(m)    1.041033\n",
       "15               blade_breadth(m)   27.438856\n",
       "16             windmill_height(m)   11.073316"
      ]
     },
     "execution_count": 22,
     "metadata": {},
     "output_type": "execute_result"
    }
   ],
   "source": [
    "calc_vif(train_full)"
   ]
  },
  {
   "cell_type": "code",
   "execution_count": 35,
   "id": "396c02c2",
   "metadata": {},
   "outputs": [],
   "source": [
    "cols_to_drop=['engine_temperature(°C)','motor_torque(N-m)','generator_temperature(°C)',\n",
    "              'area_temperature(°C)','resistance(ohm)','blade_breadth(m)','windmill_height(m)']"
   ]
  },
  {
   "cell_type": "code",
   "execution_count": 36,
   "id": "b4141486",
   "metadata": {},
   "outputs": [],
   "source": [
    "train_full.drop(cols_to_drop,axis=1,inplace=True)"
   ]
  },
  {
   "cell_type": "code",
   "execution_count": 37,
   "id": "b7007c82",
   "metadata": {},
   "outputs": [],
   "source": [
    "test_full.drop(cols_to_drop,axis=1,inplace=True)"
   ]
  },
  {
   "cell_type": "code",
   "execution_count": 23,
   "id": "2d05b470",
   "metadata": {},
   "outputs": [],
   "source": [
    "def compare_categorical_columns(df_train : pd.DataFrame,df_test : pd.DataFrame):\n",
    "    l=df_train.select_dtypes(include='object').columns.tolist()\n",
    "    for i in l:\n",
    "        Train_list=df_train[i].unique().tolist()\n",
    "        Test_list=df_test[i].unique().tolist()\n",
    "        if set(Train_list)!=set(Test_list):\n",
    "            Train_list=[\"nan\" if x is np.nan else x for x in Train_list]\n",
    "            Test_list=[\"nan\" if x is np.nan else x for x in Test_list]\n",
    "            Train_list.sort()\n",
    "            Test_list.sort()\n",
    "            print ('**** train:',i,Train_list,end='\\n')\n",
    "            print ('#### test:',i,Test_list,end='\\n''\\n')"
   ]
  },
  {
   "cell_type": "code",
   "execution_count": 117,
   "id": "b5b519d7",
   "metadata": {},
   "outputs": [],
   "source": [
    "compare_categorical_columns(train_full,test_full)"
   ]
  },
  {
   "cell_type": "code",
   "execution_count": 118,
   "id": "5cdc6b8d",
   "metadata": {},
   "outputs": [
    {
     "name": "stdout",
     "output_type": "stream",
     "text": [
      "wind_speed(m/s) , 271 , 1 %\n",
      "atmospheric_temperature(°C) , 3422 , 12 %\n",
      "shaft_temperature(°C) , 2 , 0 %\n",
      "blades_angle(°) , 212 , 1 %\n",
      "gearbox_temperature(°C) , 1 , 0 %\n",
      "atmospheric_pressure(Pascal) , 2690 , 10 %\n",
      "windmill_body_temperature(°C) , 2352 , 8 %\n",
      "wind_direction(°) , 5058 , 18 %\n",
      "rotor_torque(N-m) , 567 , 2 %\n",
      "turbine_status , 1747 , 6 %\n",
      "cloud_level , 272 , 1 %\n",
      "blade_length(m) , 5057 , 18 %\n"
     ]
    },
    {
     "data": {
      "image/png": "[encoded data removed]",
      "text/plain": [
       "<Figure size 432x288 with 1 Axes>"
      ]
     },
     "metadata": {
      "needs_background": "light"
     },
     "output_type": "display_data"
    },
    {
     "name": "stdout",
     "output_type": "stream",
     "text": [
      "****\n",
      "wind_speed(m/s) , 126 , 1 %\n",
      "atmospheric_temperature(°C) , 1427 , 12 %\n",
      "shaft_temperature(°C) , 1 , 0 %\n",
      "blades_angle(°) , 106 , 1 %\n",
      "gearbox_temperature(°C) , 1 , 0 %\n",
      "atmospheric_pressure(Pascal) , 1151 , 10 %\n",
      "windmill_body_temperature(°C) , 926 , 8 %\n",
      "wind_direction(°) , 2160 , 18 %\n",
      "rotor_torque(N-m) , 281 , 2 %\n",
      "turbine_status , 797 , 7 %\n",
      "cloud_level , 125 , 1 %\n",
      "blade_length(m) , 2114 , 17 %\n"
     ]
    },
    {
     "data": {
      "image/png": "[encoded data removed]",
      "text/plain": [
       "<Figure size 432x288 with 1 Axes>"
      ]
     },
     "metadata": {
      "needs_background": "light"
     },
     "output_type": "display_data"
    }
   ],
   "source": [
    "compare_null_values(train_full,test_full)"
   ]
  },
  {
   "cell_type": "code",
   "execution_count": null,
   "id": "c708123a",
   "metadata": {},
   "outputs": [],
   "source": [
    "\"Processsing for PipeLine , CV & Model Selection\""
   ]
  },
  {
   "cell_type": "code",
   "execution_count": 38,
   "id": "29ca0d22",
   "metadata": {},
   "outputs": [],
   "source": [
    "from sklearn.preprocessing import OneHotEncoder\n",
    "from sklearn.pipeline import Pipeline\n",
    "from sklearn.impute import SimpleImputer\n",
    "from sklearn.compose import ColumnTransformer\n",
    "from sklearn.metrics import mean_absolute_error"
   ]
  },
  {
   "cell_type": "code",
   "execution_count": null,
   "id": "e2a042fe",
   "metadata": {},
   "outputs": [],
   "source": []
  },
  {
   "cell_type": "code",
   "execution_count": 39,
   "id": "5840e03c",
   "metadata": {},
   "outputs": [],
   "source": [
    "from sklearn.model_selection import train_test_split\n",
    "\n",
    "y=train_full['windmill_generated_power(kW/h)']\n",
    "train_full.drop(['windmill_generated_power(kW/h)'], axis=1,inplace=True)\n",
    "\n",
    "X_train_full,X_valid_full,y_train,y_valid=train_test_split(train_full,y,train_size=0.8,test_size=0.2,random_state=0)"
   ]
  },
  {
   "cell_type": "code",
   "execution_count": 40,
   "id": "cd88a0fe",
   "metadata": {},
   "outputs": [],
   "source": [
    "object_cols=[cols for cols in train_full.columns if train_full[cols].dtype=='object']\n",
    "\n",
    "#good_cols=[cols for cols in object_cols if set(test[object_cols]).issubset(set(train[object_cols]))]\n",
    "\n",
    "#categorical_cols=[cols for cols in good_cols and train[good_cols].nunique()<10 ]                                              \n",
    "                                               \n",
    "numerical_cols=[cols for cols in train_full.columns if train_full[cols].dtype in ['int64','float64']]\n",
    "\n",
    "my_cols=object_cols+numerical_cols\n",
    "\n",
    "X_train=X_train_full[my_cols].copy()\n",
    "X_valid=X_valid_full[my_cols].copy()"
   ]
  },
  {
   "cell_type": "code",
   "execution_count": 69,
   "id": "8993f61c",
   "metadata": {},
   "outputs": [
    {
     "data": {
      "text/plain": [
       "['turbine_status', 'cloud_level']"
      ]
     },
     "execution_count": 69,
     "metadata": {},
     "output_type": "execute_result"
    }
   ],
   "source": [
    "object_cols"
   ]
  },
  {
   "cell_type": "code",
   "execution_count": 41,
   "id": "4fa520b7",
   "metadata": {},
   "outputs": [
    {
     "data": {
      "text/html": [
       "<div>\n",
       "<style scoped>\n",
       "    .dataframe tbody tr th:only-of-type {\n",
       "        vertical-align: middle;\n",
       "    }\n",
       "\n",
       "    .dataframe tbody tr th {\n",
       "        vertical-align: top;\n",
       "    }\n",
       "\n",
       "    .dataframe thead th {\n",
       "        text-align: right;\n",
       "    }\n",
       "</style>\n",
       "<table border=\"1\" class=\"dataframe\">\n",
       "  <thead>\n",
       "    <tr style=\"text-align: right;\">\n",
       "      <th></th>\n",
       "      <th>turbine_status</th>\n",
       "      <th>cloud_level</th>\n",
       "      <th>wind_speed(m/s)</th>\n",
       "      <th>atmospheric_temperature(°C)</th>\n",
       "      <th>shaft_temperature(°C)</th>\n",
       "      <th>blades_angle(°)</th>\n",
       "      <th>gearbox_temperature(°C)</th>\n",
       "      <th>atmospheric_pressure(Pascal)</th>\n",
       "      <th>windmill_body_temperature(°C)</th>\n",
       "      <th>wind_direction(°)</th>\n",
       "      <th>rotor_torque(N-m)</th>\n",
       "      <th>blade_length(m)</th>\n",
       "    </tr>\n",
       "  </thead>\n",
       "  <tbody>\n",
       "    <tr>\n",
       "      <th>15611</th>\n",
       "      <td>BD</td>\n",
       "      <td>Low</td>\n",
       "      <td>-32.32933</td>\n",
       "      <td>26.986519</td>\n",
       "      <td>45.418365</td>\n",
       "      <td>-0.33299</td>\n",
       "      <td>43.050239</td>\n",
       "      <td>17144.779919</td>\n",
       "      <td>43.066814</td>\n",
       "      <td>NaN</td>\n",
       "      <td>34.298018</td>\n",
       "      <td>3.539365</td>\n",
       "    </tr>\n",
       "    <tr>\n",
       "      <th>27743</th>\n",
       "      <td>BBB</td>\n",
       "      <td>Medium</td>\n",
       "      <td>16.20677</td>\n",
       "      <td>8.396372</td>\n",
       "      <td>45.767251</td>\n",
       "      <td>-1.00041</td>\n",
       "      <td>43.653480</td>\n",
       "      <td>112713.546224</td>\n",
       "      <td>41.407374</td>\n",
       "      <td>264.988175</td>\n",
       "      <td>13.233969</td>\n",
       "      <td>3.929870</td>\n",
       "    </tr>\n",
       "  </tbody>\n",
       "</table>\n",
       "</div>"
      ],
      "text/plain": [
       "      turbine_status cloud_level  wind_speed(m/s)  \\\n",
       "15611             BD         Low        -32.32933   \n",
       "27743            BBB      Medium         16.20677   \n",
       "\n",
       "       atmospheric_temperature(°C)  shaft_temperature(°C)  blades_angle(°)  \\\n",
       "15611                    26.986519              45.418365         -0.33299   \n",
       "27743                     8.396372              45.767251         -1.00041   \n",
       "\n",
       "       gearbox_temperature(°C)  atmospheric_pressure(Pascal)  \\\n",
       "15611                43.050239                  17144.779919   \n",
       "27743                43.653480                 112713.546224   \n",
       "\n",
       "       windmill_body_temperature(°C)  wind_direction(°)  rotor_torque(N-m)  \\\n",
       "15611                      43.066814                NaN          34.298018   \n",
       "27743                      41.407374         264.988175          13.233969   \n",
       "\n",
       "       blade_length(m)  \n",
       "15611         3.539365  \n",
       "27743         3.929870  "
      ]
     },
     "execution_count": 41,
     "metadata": {},
     "output_type": "execute_result"
    }
   ],
   "source": [
    "X_train.head(2)"
   ]
  },
  {
   "cell_type": "code",
   "execution_count": 42,
   "id": "5fb7be50",
   "metadata": {},
   "outputs": [],
   "source": [
    "from sklearn.impute import SimpleImputer\n",
    "numerical_transformer=SimpleImputer(strategy='most_frequent')\n",
    "categorical_transformer=Pipeline(steps=[('imputer', SimpleImputer(strategy='most_frequent')),\n",
    "                                         ('onehot',OneHotEncoder(handle_unknown='ignore'))])\n",
    "preprocessor=ColumnTransformer(transformers=[\n",
    "    ('num',numerical_transformer,numerical_cols),\n",
    "    ('cat',categorical_transformer,object_cols)\n",
    "])\n"
   ]
  },
  {
   "cell_type": "code",
   "execution_count": 43,
   "id": "ceabc7c7",
   "metadata": {},
   "outputs": [],
   "source": [
    "from sklearn.ensemble import RandomForestRegressor\n",
    "model=RandomForestRegressor(n_estimators=50,random_state=0)"
   ]
  },
  {
   "cell_type": "code",
   "execution_count": 44,
   "id": "e5991328",
   "metadata": {},
   "outputs": [],
   "source": [
    "my_pipeline=Pipeline(steps=[('preprocessor',preprocessor),('model',model)])"
   ]
  },
  {
   "cell_type": "code",
   "execution_count": 14,
   "id": "96caf0c0",
   "metadata": {},
   "outputs": [
    {
     "name": "stdout",
     "output_type": "stream",
     "text": [
      "MAE is: 0.5189838266863931\n"
     ]
    }
   ],
   "source": [
    "my_pipeline.fit(X_train,y_train)\n",
    "preds=my_pipeline.predict(X_valid)\n",
    "score=mean_absolute_error(y_valid,preds)\n",
    "print('MAE is:',score)"
   ]
  },
  {
   "cell_type": "code",
   "execution_count": 17,
   "id": "315328bd",
   "metadata": {},
   "outputs": [
    {
     "name": "stdout",
     "output_type": "stream",
     "text": [
      "MAE scores:\n",
      " [0.52583347 0.50604751 0.51104845]\n"
     ]
    }
   ],
   "source": [
    "from sklearn.model_selection import cross_val_score\n",
    "\n",
    "# Multiply by -1 since sklearn calculates *negative* MAE\n",
    "scores = -1 * cross_val_score(my_pipeline, train_full, y,\n",
    "                              cv=3,\n",
    "                              scoring='neg_mean_absolute_error')\n",
    "\n",
    "print(\"MAE scores:\\n\", scores)"
   ]
  },
  {
   "cell_type": "code",
   "execution_count": 24,
   "id": "c94869b8",
   "metadata": {},
   "outputs": [
    {
     "name": "stdout",
     "output_type": "stream",
     "text": [
      "Average MAE score: 0.5143098095984242\n"
     ]
    }
   ],
   "source": [
    "print('Average MAE score:',scores.mean())"
   ]
  },
  {
   "cell_type": "code",
   "execution_count": 18,
   "id": "ae1f1f59",
   "metadata": {},
   "outputs": [],
   "source": [
    "def get_score(n_estimators):\n",
    "    \"\"\"Return the average MAE over 3 CV folds of random forest model.\n",
    "    \n",
    "    Keyword argument:\n",
    "    n_estimators -- the number of trees in the forest\n",
    "    \"\"\"\n",
    "    my_pipeline = Pipeline(steps=[\n",
    "    ('preprocessor', preprocessor),\n",
    "    ('model', RandomForestRegressor(n_estimators, random_state=0))])\n",
    "    scores = -1 * cross_val_score(my_pipeline, train_full[my_cols], y,\n",
    "                              cv=3,\n",
    "                              scoring='neg_mean_absolute_error')\n",
    "    return scores.mean()\n",
    "    pass"
   ]
  },
  {
   "cell_type": "code",
   "execution_count": 19,
   "id": "8a27b98f",
   "metadata": {},
   "outputs": [],
   "source": [
    "results = {}\n",
    "for i in range(1,5):\n",
    "    results[10*i] = get_score(10*i) "
   ]
  },
  {
   "cell_type": "code",
   "execution_count": 20,
   "id": "8b9e3383",
   "metadata": {},
   "outputs": [
    {
     "data": {
      "image/png": "[encoded data removed]",
      "text/plain": [
       "<Figure size 432x288 with 1 Axes>"
      ]
     },
     "metadata": {
      "needs_background": "light"
     },
     "output_type": "display_data"
    }
   ],
   "source": [
    "import matplotlib.pyplot as plt\n",
    "%matplotlib inline\n",
    "plt.plot(list(results.keys()), list(results.values()))\n",
    "plt.show()"
   ]
  },
  {
   "cell_type": "code",
   "execution_count": 47,
   "id": "236fe818",
   "metadata": {},
   "outputs": [
    {
     "name": "stdout",
     "output_type": "stream",
     "text": [
      "MAE is: 2.1165664942573925\n"
     ]
    }
   ],
   "source": [
    "\"Trying with other models\"\n",
    "\n",
    "from sklearn.linear_model import LinearRegression\n",
    "model1=LinearRegression()\n",
    "my_pipeline1=Pipeline(steps=[('preprocessor',preprocessor),('model1',model1)])\n",
    "my_pipeline1.fit(X_train,y_train)\n",
    "preds=my_pipeline1.predict(X_valid)\n",
    "score=mean_absolute_error(y_valid,preds)\n",
    "print('MAE is:',score)"
   ]
  },
  {
   "cell_type": "code",
   "execution_count": 58,
   "id": "c70e6549",
   "metadata": {},
   "outputs": [
    {
     "name": "stdout",
     "output_type": "stream",
     "text": [
      "MAE scores:\n",
      " [2.08491769 2.08176129 2.05340391] \n",
      "\n",
      "average of MAE scores for CV=3 with model Linear Regression is: 2.073\n"
     ]
    }
   ],
   "source": [
    "from sklearn.model_selection import cross_val_score\n",
    "\n",
    "# Multiply by -1 since sklearn calculates *negative* MAE\n",
    "scores = -1 * cross_val_score(my_pipeline1, train_full, y,\n",
    "                              cv=3,\n",
    "                              scoring='neg_mean_absolute_error')\n",
    "\n",
    "print(\"MAE scores:\\n\", scores,'\\n')\n",
    "\n",
    "print('average of MAE scores for CV=3 with model Linear Regression is:',scores.mean().round(3))"
   ]
  },
  {
   "cell_type": "code",
   "execution_count": 93,
   "id": "c615ae41",
   "metadata": {},
   "outputs": [
    {
     "data": {
      "image/png": "[encoded data removed]",
      "text/plain": [
       "<Figure size 432x432 with 1 Axes>"
      ]
     },
     "metadata": {},
     "output_type": "display_data"
    }
   ],
   "source": [
    "\"Checking the non-linearity of Predicted Y vs. difference of Actual Y & Predicted Y\"\n",
    "\n",
    "\"Simple Imputer\"\n",
    "\n",
    "simple_imputer=SimpleImputer(strategy='most_frequent')\n",
    "X=pd.DataFrame(simple_imputer.fit_transform(train_full),columns=list(train_full.columns))\n",
    "\n",
    "\"One Hot Encoding\"\n",
    "\n",
    "\n",
    "OH=OneHotEncoder(handle_unknown='ignore',sparse=False)\n",
    "\n",
    "Z=pd.DataFrame(OH.fit_transform(X[object_cols]))\n",
    "\n",
    "\"Combining both the datasets\"\n",
    "\n",
    "Z=pd.concat([Z,X.drop(['turbine_status', 'cloud_level'],axis=1)],axis=1)\n",
    "\n",
    "Residual=pd.DataFrame(\n",
    "    {\n",
    "        'Y Value':y,\n",
    "        'Computed Y value':model1.predict(Z),\n",
    "        'Residual Value':y-model1.predict(Z)\n",
    "    }\n",
    ")\n",
    "\n",
    "sns.set_theme(style=\"whitegrid\")\n",
    "#define figure size\n",
    "fig = plt.figure(figsize=(6,6))\n",
    "\n",
    "#produce regression plots\n",
    "fig=sns.residplot(x=model1.predict(Z), y=Residual['Residual Value'],lowess=True,color=\"r\")\n",
    "\n",
    "\"No discernible pattern; hence there is no non-linearity in the model\""
   ]
  },
  {
   "cell_type": "code",
   "execution_count": 114,
   "id": "2dc4c217",
   "metadata": {},
   "outputs": [
    {
     "data": {
      "image/png": "[encoded data removed]",
      "text/plain": [
       "<Figure size 432x288 with 1 Axes>"
      ]
     },
     "metadata": {},
     "output_type": "display_data"
    }
   ],
   "source": [
    "#Prediction\n",
    "preds=my_pipeline1.predict(train_full[my_cols])\n",
    "plt.xlabel('Calculated Y Values with red ''o'' mark and Actual Y value in straight green line ')\n",
    "\n",
    "\n",
    "# red dashes, blue squares and green triangles\n",
    "plt.plot(preds, preds, 'ro', y, y, 'g')\n",
    "plt.show()\n",
    "\n",
    "\n",
    "\n",
    "\n",
    "#plt.scatter(x=y_valid,y=preds)\n",
    "#plt.scatter(x=y_valid)"
   ]
  },
  {
   "cell_type": "code",
   "execution_count": 117,
   "id": "5cbe85a8",
   "metadata": {},
   "outputs": [
    {
     "data": {
      "text/plain": [
       "<AxesSubplot:xlabel='windmill_generated_power(kW/h)'>"
      ]
     },
     "execution_count": 117,
     "metadata": {},
     "output_type": "execute_result"
    },
    {
     "data": {
      "image/png": "[encoded data removed]",
      "text/plain": [
       "<Figure size 432x288 with 1 Axes>"
      ]
     },
     "metadata": {},
     "output_type": "display_data"
    }
   ],
   "source": [
    "sns.boxplot(x=y)"
   ]
  },
  {
   "cell_type": "code",
   "execution_count": 121,
   "id": "4cf496e0",
   "metadata": {},
   "outputs": [
    {
     "name": "stdout",
     "output_type": "stream",
     "text": [
      "MAE is: 2.1165664942573925\n"
     ]
    }
   ],
   "source": [
    "\"With KNN model\"\n",
    "\n",
    "from sklearn.neighbors import KNeighborsRegressor\n",
    "model2=KNeighborsRegressor()\n",
    "\n",
    "my_pipeline2=Pipeline(steps=[('preprocessor',preprocessor),('model2',model2)])\n",
    "my_pipeline2.fit(X_train,y_train)\n",
    "preds=my_pipeline1.predict(X_valid)\n",
    "score=mean_absolute_error(y_valid,preds)\n",
    "print('MAE is:',score)\n"
   ]
  },
  {
   "cell_type": "code",
   "execution_count": 128,
   "id": "eff77e67",
   "metadata": {},
   "outputs": [
    {
     "name": "stdout",
     "output_type": "stream",
     "text": [
      "MAE scores:\n",
      " [1.50795728 1.47521319 1.47478732] \n",
      "\n",
      "average of MAE scores for CV=3 with model Linear Regression is: 1.486\n"
     ]
    }
   ],
   "source": [
    "from sklearn.model_selection import cross_val_score\n",
    "\n",
    "# Multiply by -1 since sklearn calculates *negative* MAE\n",
    "scores = -1 * cross_val_score(my_pipeline2, train_full, y,\n",
    "                              cv=3,\n",
    "                              scoring='neg_mean_absolute_error')\n",
    "\n",
    "print(\"MAE scores:\\n\", scores,'\\n')\n",
    "\n",
    "print('average of MAE scores for CV=3 with model Linear Regression is:',scores.mean().round(3))"
   ]
  },
  {
   "cell_type": "code",
   "execution_count": 126,
   "id": "a983a8b4",
   "metadata": {},
   "outputs": [],
   "source": [
    "def get_score2(n_neighbors):\n",
    "    \"\"\"Return the average MAE over 3 CV folds of KNN.\n",
    "    \n",
    "    Keyword argument:\n",
    "    n_neighbors -- the number of neighbouring elements in the regression model\n",
    "    \"\"\"\n",
    "    my_pipeline2 = Pipeline(steps=[\n",
    "    ('preprocessor', preprocessor),\n",
    "    ('model2', KNeighborsRegressor(n_neighbors))])\n",
    "    scores = -1 * cross_val_score(my_pipeline, train_full, y,\n",
    "                              cv=3,\n",
    "                              scoring='neg_mean_absolute_error')\n",
    "    return scores.mean()\n",
    "    pass"
   ]
  },
  {
   "cell_type": "code",
   "execution_count": 127,
   "id": "60034911",
   "metadata": {},
   "outputs": [
    {
     "data": {
      "image/png": "[encoded data removed]",
      "text/plain": [
       "<Figure size 432x288 with 1 Axes>"
      ]
     },
     "metadata": {},
     "output_type": "display_data"
    }
   ],
   "source": [
    "\"Chnage values of neighbors\"\n",
    "results = {}\n",
    "for i in range(1,5):\n",
    "    results[10*i] = get_score2(10*i) \n",
    "    \n",
    "\"Plot in graph\"\n",
    "plt.plot(list(results.keys()), list(results.values()))\n",
    "plt.show()"
   ]
  },
  {
   "cell_type": "code",
   "execution_count": null,
   "id": "14a2e4b6",
   "metadata": {},
   "outputs": [],
   "source": []
  }
 ],
 "metadata": {
  "kernelspec": {
   "display_name": "Python 3",
   "language": "python",
   "name": "python3"
  },
  "language_info": {
   "codemirror_mode": {
    "name": "ipython",
    "version": 3
   },
   "file_extension": ".py",
   "mimetype": "text/x-python",
   "name": "python",
   "nbconvert_exporter": "python",
   "pygments_lexer": "ipython3",
   "version": "3.8.8"
  }
 },
 "nbformat": 4,
 "nbformat_minor": 5
}
